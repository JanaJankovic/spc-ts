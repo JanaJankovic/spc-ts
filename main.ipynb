{
 "cells": [
  {
   "cell_type": "code",
   "execution_count": 1,
   "id": "3a14bcc0",
   "metadata": {},
   "outputs": [],
   "source": [
    "import src.data.pipeline as data_pipeline"
   ]
  },
  {
   "cell_type": "code",
   "execution_count": 2,
   "id": "ae7990df",
   "metadata": {},
   "outputs": [
    {
     "data": {
      "text/plain": [
       "<module 'src.data.pipeline' from '/home/jana/Documents/FERI/spc-ts/src/data/pipeline.py'>"
      ]
     },
     "execution_count": 2,
     "metadata": {},
     "output_type": "execute_result"
    }
   ],
   "source": [
    "import importlib\n",
    "importlib.reload(data_pipeline)\n"
   ]
  },
  {
   "cell_type": "code",
   "execution_count": 5,
   "id": "0fd4369a",
   "metadata": {},
   "outputs": [
    {
     "name": "stdout",
     "output_type": "stream",
     "text": [
      "❌ Columns not found in DataFrame and skipped: ['day_of_week', 'month', 'is_weekend', 'hour', 'is_night', 'is_holiday']\n"
     ]
    }
   ],
   "source": [
    "scalers, train_loader, val_loader, test_loader = data_pipeline.cnn_lstm_pipeline(    \n",
    "    'data/processed/mm79158.csv',\n",
    "    24,\n",
    "    1,\n",
    "    64,\n",
    "    time_col=\"datetime\",\n",
    "    target_col=\"load\",\n",
    "    freq=\"1h\",\n",
    "    use_calendar=False,\n",
    "    use_weather=True,)"
   ]
  },
  {
   "cell_type": "code",
   "execution_count": null,
   "id": "4ec5e84c",
   "metadata": {},
   "outputs": [],
   "source": [
    "scaler, train, val, test = data_pipeline.di_rnn_pipeline('data/processed/mm79158.csv', 24, 1, 64,'load')"
   ]
  }
 ],
 "metadata": {
  "kernelspec": {
   "display_name": "3.10.5",
   "language": "python",
   "name": "python3"
  },
  "language_info": {
   "codemirror_mode": {
    "name": "ipython",
    "version": 3
   },
   "file_extension": ".py",
   "mimetype": "text/x-python",
   "name": "python",
   "nbconvert_exporter": "python",
   "pygments_lexer": "ipython3",
   "version": "3.10.5"
  }
 },
 "nbformat": 4,
 "nbformat_minor": 5
}
